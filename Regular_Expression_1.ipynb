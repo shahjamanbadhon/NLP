{
  "cells": [
    {
      "cell_type": "markdown",
      "metadata": {
        "id": "view-in-github",
        "colab_type": "text"
      },
      "source": [
        "<a href=\"https://colab.research.google.com/github/shahjamanbadhon/NLP/blob/main/Regular_Expression_1.ipynb\" target=\"_parent\"><img src=\"https://colab.research.google.com/assets/colab-badge.svg\" alt=\"Open In Colab\"/></a>"
      ]
    },
    {
      "cell_type": "code",
      "execution_count": 30,
      "metadata": {
        "id": "cxs0Bxk7mU9B"
      },
      "outputs": [],
      "source": [
        "import re\n",
        "pattern=\"Shahjaman\"\n",
        "result = re.match(pattern, \"Shahjaman Badhon\")"
      ]
    },
    {
      "cell_type": "code",
      "execution_count": 31,
      "metadata": {
        "colab": {
          "base_uri": "https://localhost:8080/"
        },
        "id": "XKVN7NBNmU9D",
        "outputId": "add8af09-b4c8-4c39-dbd9-460fa36c9106"
      },
      "outputs": [
        {
          "output_type": "execute_result",
          "data": {
            "text/plain": [
              "<re.Match object; span=(0, 9), match='Shahjaman'>"
            ]
          },
          "metadata": {},
          "execution_count": 31
        }
      ],
      "source": [
        "result"
      ]
    },
    {
      "cell_type": "code",
      "execution_count": 32,
      "metadata": {
        "colab": {
          "base_uri": "https://localhost:8080/"
        },
        "id": "D0XZ3QOmmU9E",
        "outputId": "673bae32-02c4-4d2d-8a47-6f3f26491d20"
      },
      "outputs": [
        {
          "output_type": "stream",
          "name": "stdout",
          "text": [
            "Match \n"
          ]
        }
      ],
      "source": [
        "if result:\n",
        "    print(\"Match \")\n",
        "else:\n",
        "    print(\"Not Match\")"
      ]
    },
    {
      "cell_type": "markdown",
      "metadata": {
        "id": "LlIpRMLtmU9F"
      },
      "source": [
        "## Meta Characters\n",
        "- . (dot): match any character"
      ]
    },
    {
      "cell_type": "code",
      "execution_count": 33,
      "metadata": {
        "colab": {
          "base_uri": "https://localhost:8080/"
        },
        "id": "2duv8fH3mU9F",
        "outputId": "9da5dc54-f6f2-4495-e4af-5ce78c9f356e"
      },
      "outputs": [
        {
          "output_type": "stream",
          "name": "stdout",
          "text": [
            "<re.Match object; span=(0, 5), match='Bijoy'>\n"
          ]
        }
      ],
      "source": [
        "pattern='Bij.y'\n",
        "result=re.match(pattern, \"Bijoy\")\n",
        "print(result)"
      ]
    },
    {
      "cell_type": "code",
      "execution_count": 34,
      "metadata": {
        "colab": {
          "base_uri": "https://localhost:8080/"
        },
        "id": "f8nNJKfymU9G",
        "outputId": "d44c896f-9209-4eef-aa0e-8abe5b8da47e"
      },
      "outputs": [
        {
          "output_type": "stream",
          "name": "stdout",
          "text": [
            "<re.Match object; span=(0, 6), match='BadhXn'>\n"
          ]
        }
      ],
      "source": [
        "pattern='Badh.n'\n",
        "result=re.match(pattern, \"BadhXn\")\n",
        "print(result)"
      ]
    },
    {
      "cell_type": "code",
      "execution_count": 35,
      "metadata": {
        "colab": {
          "base_uri": "https://localhost:8080/"
        },
        "id": "dLJ-MbQEmU9G",
        "outputId": "daea8ab0-d830-42bf-b5eb-0a31793eea9c"
      },
      "outputs": [
        {
          "output_type": "stream",
          "name": "stdout",
          "text": [
            "None\n"
          ]
        }
      ],
      "source": [
        "pattern='Badh.n'\n",
        "result=re.match(pattern, \"hon\")\n",
        "print(result)"
      ]
    },
    {
      "cell_type": "markdown",
      "metadata": {
        "id": "cdUZX4-imU9G"
      },
      "source": [
        "## Character Class Set : []\n",
        "- [aeiou]: match any vowel\n",
        "- [0-9]: match any digit\n",
        "- [a-z]: match any lower case\n",
        "- [A-Z]: match any upper case"
      ]
    },
    {
      "cell_type": "code",
      "execution_count": 36,
      "metadata": {
        "colab": {
          "base_uri": "https://localhost:8080/"
        },
        "id": "mHpxSThkmU9H",
        "outputId": "0113b4b8-4c49-402d-cacf-05a8510d6ff9"
      },
      "outputs": [
        {
          "output_type": "stream",
          "name": "stdout",
          "text": [
            "Vowel Found\n"
          ]
        }
      ],
      "source": [
        "pattern = \"[aeiou]\"\n",
        "if re.search(pattern, \"Faisal\"):\n",
        "       print(\"Vowel Found\")\n",
        "else:\n",
        "       print(\"Not found\")"
      ]
    },
    {
      "cell_type": "code",
      "execution_count": 37,
      "metadata": {
        "colab": {
          "base_uri": "https://localhost:8080/"
        },
        "id": "5wx6dmKGmU9H",
        "outputId": "1131d7aa-06bf-4c62-f43a-913bc4479f99"
      },
      "outputs": [
        {
          "output_type": "stream",
          "name": "stdout",
          "text": [
            "Not found\n"
          ]
        }
      ],
      "source": [
        "pattern = \"[aeiou]\"\n",
        "if re.search(pattern, \"XYZ\"):\n",
        "       print(\"Vowel Found\")\n",
        "else:\n",
        "       print(\"Not found\")"
      ]
    },
    {
      "cell_type": "code",
      "execution_count": 38,
      "metadata": {
        "colab": {
          "base_uri": "https://localhost:8080/"
        },
        "id": "MNlYqa9hmU9I",
        "outputId": "3f05d387-ddd1-4ad1-f707-80dd42d7912b"
      },
      "outputs": [
        {
          "output_type": "stream",
          "name": "stdout",
          "text": [
            "Digit Found\n"
          ]
        }
      ],
      "source": [
        "pattern = \"[0-9]\"\n",
        "if re.search(pattern, \"123456\"):\n",
        "       print(\"Digit Found\")\n",
        "else:\n",
        "       print(\"Not found\")"
      ]
    },
    {
      "cell_type": "code",
      "execution_count": 39,
      "metadata": {
        "colab": {
          "base_uri": "https://localhost:8080/"
        },
        "id": "Cr6-oeUCmU9I",
        "outputId": "9e4864b0-1d7b-4b08-bc60-d67b68126b7b"
      },
      "outputs": [
        {
          "output_type": "stream",
          "name": "stdout",
          "text": [
            "Digit Found\n"
          ]
        }
      ],
      "source": [
        "pattern = \"[0-9]\"\n",
        "if re.search(pattern, \"Badh0n\"):\n",
        "       print(\"Digit Found\")\n",
        "else:\n",
        "       print(\"Not found\")"
      ]
    },
    {
      "cell_type": "code",
      "execution_count": 40,
      "metadata": {
        "colab": {
          "base_uri": "https://localhost:8080/"
        },
        "id": "3PPDdT46mU9I",
        "outputId": "e75bbd5c-7ed8-4afd-aa4f-fa7ce004c4ad"
      },
      "outputs": [
        {
          "output_type": "stream",
          "name": "stdout",
          "text": [
            "Not found\n"
          ]
        }
      ],
      "source": [
        "pattern = \"[0-9]\"\n",
        "if re.search(pattern, \"Badhon\"):\n",
        "       print(\"Digit Found\")\n",
        "else:\n",
        "       print(\"Not found\")"
      ]
    }
  ],
  "metadata": {
    "kernelspec": {
      "display_name": "Python 3",
      "language": "python",
      "name": "python3"
    },
    "language_info": {
      "codemirror_mode": {
        "name": "ipython",
        "version": 3
      },
      "file_extension": ".py",
      "mimetype": "text/x-python",
      "name": "python",
      "nbconvert_exporter": "python",
      "pygments_lexer": "ipython3",
      "version": "3.8.5"
    },
    "colab": {
      "provenance": [],
      "include_colab_link": true
    }
  },
  "nbformat": 4,
  "nbformat_minor": 0
}