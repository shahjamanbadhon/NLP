{
  "cells": [
    {
      "cell_type": "markdown",
      "metadata": {
        "id": "view-in-github",
        "colab_type": "text"
      },
      "source": [
        "<a href=\"https://colab.research.google.com/github/shahjamanbadhon/NLP/blob/main/4_Tokenization_in_Text_Analytics.ipynb\" target=\"_parent\"><img src=\"https://colab.research.google.com/assets/colab-badge.svg\" alt=\"Open In Colab\"/></a>"
      ]
    },
    {
      "cell_type": "markdown",
      "metadata": {
        "id": "4HOvRWK9qUhl"
      },
      "source": [
        "## Tokenization\n",
        "\n",
        "- Word\n",
        "- Sentence\n",
        "- White Space\n",
        "- Punctuation"
      ]
    },
    {
      "cell_type": "markdown",
      "metadata": {
        "id": "EYLOPwxEqUhq"
      },
      "source": [
        "### Resource Link\n",
        "- https://www.datacamp.com/community/tutorials/text-analytics-beginners-nltk\n",
        "- https://www.nltk.org/api/nltk.tokenize.html"
      ]
    },
    {
      "cell_type": "code",
      "source": [
        "import nltk\n",
        "nltk.download('punkt_tab')"
      ],
      "metadata": {
        "colab": {
          "base_uri": "https://localhost:8080/"
        },
        "id": "rIefE6CXrZRq",
        "outputId": "60e02a4b-b498-4575-8453-29d05acf59b3"
      },
      "execution_count": 18,
      "outputs": [
        {
          "output_type": "stream",
          "name": "stderr",
          "text": [
            "[nltk_data] Downloading package punkt_tab to /root/nltk_data...\n",
            "[nltk_data]   Package punkt_tab is already up-to-date!\n"
          ]
        },
        {
          "output_type": "execute_result",
          "data": {
            "text/plain": [
              "True"
            ]
          },
          "metadata": {},
          "execution_count": 18
        }
      ]
    },
    {
      "cell_type": "markdown",
      "metadata": {
        "id": "n8jMZgqSqUhw"
      },
      "source": [
        "## Sentence Tokenization"
      ]
    },
    {
      "cell_type": "code",
      "execution_count": 19,
      "metadata": {
        "id": "cem2TLt9qUhw"
      },
      "outputs": [],
      "source": [
        "from nltk.tokenize import sent_tokenize"
      ]
    },
    {
      "cell_type": "code",
      "execution_count": 20,
      "metadata": {
        "id": "450LjXm2qUhw"
      },
      "outputs": [],
      "source": [
        "text=\"Department of Computer Science and Engineering of KUET, started its academic activities from September 26, 1999 with the aim of quality education as well as cutting edge researches in the branches of Computer Science and Engineering. The department regularly offers postgraduate (M.Sc. and Ph.D.) and undergraduate (B.Sc.) programs. Only top ranked brilliant students are enrolled in this department through a competitive admission test. At present, yearly intake of this department is around 160 including 120 fixed undergraduate intakes. The department has well equipped different laboratories and a System Development Centre to increase the expertise of students practically along with theoretical knowledge.\""
      ]
    },
    {
      "cell_type": "code",
      "execution_count": 21,
      "metadata": {
        "colab": {
          "base_uri": "https://localhost:8080/",
          "height": 91
        },
        "id": "TF1Pt_K5qUhx",
        "outputId": "55d4229f-0bdd-4e2b-952b-755c97ea3b77"
      },
      "outputs": [
        {
          "output_type": "execute_result",
          "data": {
            "text/plain": [
              "'Department of Computer Science and Engineering of KUET, started its academic activities from September 26, 1999 with the aim of quality education as well as cutting edge researches in the branches of Computer Science and Engineering. The department regularly offers postgraduate (M.Sc. and Ph.D.) and undergraduate (B.Sc.) programs. Only top ranked brilliant students are enrolled in this department through a competitive admission test. At present, yearly intake of this department is around 160 including 120 fixed undergraduate intakes. The department has well equipped different laboratories and a System Development Centre to increase the expertise of students practically along with theoretical knowledge.'"
            ],
            "application/vnd.google.colaboratory.intrinsic+json": {
              "type": "string"
            }
          },
          "metadata": {},
          "execution_count": 21
        }
      ],
      "source": [
        "text"
      ]
    },
    {
      "cell_type": "code",
      "execution_count": 22,
      "metadata": {
        "scrolled": false,
        "colab": {
          "base_uri": "https://localhost:8080/"
        },
        "id": "XnCxQPV5qUhy",
        "outputId": "306aef14-50c2-4533-fc8e-8ccee4e06097"
      },
      "outputs": [
        {
          "output_type": "execute_result",
          "data": {
            "text/plain": [
              "['Department of Computer Science and Engineering of KUET, started its academic activities from September 26, 1999 with the aim of quality education as well as cutting edge researches in the branches of Computer Science and Engineering.',\n",
              " 'The department regularly offers postgraduate (M.Sc.',\n",
              " 'and Ph.D.) and undergraduate (B.Sc.)',\n",
              " 'programs.',\n",
              " 'Only top ranked brilliant students are enrolled in this department through a competitive admission test.',\n",
              " 'At present, yearly intake of this department is around 160 including 120 fixed undergraduate intakes.',\n",
              " 'The department has well equipped different laboratories and a System Development Centre to increase the expertise of students practically along with theoretical knowledge.']"
            ]
          },
          "metadata": {},
          "execution_count": 22
        }
      ],
      "source": [
        "sent_tokenize(text)"
      ]
    },
    {
      "cell_type": "markdown",
      "metadata": {
        "id": "8Qva2Cq4qUhy"
      },
      "source": [
        "## Word Tokenization"
      ]
    },
    {
      "cell_type": "code",
      "execution_count": 23,
      "metadata": {
        "scrolled": false,
        "colab": {
          "base_uri": "https://localhost:8080/"
        },
        "id": "Mjq3-6P9qUhz",
        "outputId": "5bfd801e-60af-4fea-8370-bc26db621cd8"
      },
      "outputs": [
        {
          "output_type": "execute_result",
          "data": {
            "text/plain": [
              "['Department',\n",
              " 'of',\n",
              " 'Computer',\n",
              " 'Science',\n",
              " 'and',\n",
              " 'Engineering',\n",
              " 'of',\n",
              " 'KUET',\n",
              " ',',\n",
              " 'started',\n",
              " 'its',\n",
              " 'academic',\n",
              " 'activities',\n",
              " 'from',\n",
              " 'September',\n",
              " '26',\n",
              " ',',\n",
              " '1999',\n",
              " 'with',\n",
              " 'the',\n",
              " 'aim',\n",
              " 'of',\n",
              " 'quality',\n",
              " 'education',\n",
              " 'as',\n",
              " 'well',\n",
              " 'as',\n",
              " 'cutting',\n",
              " 'edge',\n",
              " 'researches',\n",
              " 'in',\n",
              " 'the',\n",
              " 'branches',\n",
              " 'of',\n",
              " 'Computer',\n",
              " 'Science',\n",
              " 'and',\n",
              " 'Engineering',\n",
              " '.',\n",
              " 'The',\n",
              " 'department',\n",
              " 'regularly',\n",
              " 'offers',\n",
              " 'postgraduate',\n",
              " '(',\n",
              " 'M.Sc',\n",
              " '.',\n",
              " 'and',\n",
              " 'Ph.D.',\n",
              " ')',\n",
              " 'and',\n",
              " 'undergraduate',\n",
              " '(',\n",
              " 'B.Sc',\n",
              " '.',\n",
              " ')',\n",
              " 'programs',\n",
              " '.',\n",
              " 'Only',\n",
              " 'top',\n",
              " 'ranked',\n",
              " 'brilliant',\n",
              " 'students',\n",
              " 'are',\n",
              " 'enrolled',\n",
              " 'in',\n",
              " 'this',\n",
              " 'department',\n",
              " 'through',\n",
              " 'a',\n",
              " 'competitive',\n",
              " 'admission',\n",
              " 'test',\n",
              " '.',\n",
              " 'At',\n",
              " 'present',\n",
              " ',',\n",
              " 'yearly',\n",
              " 'intake',\n",
              " 'of',\n",
              " 'this',\n",
              " 'department',\n",
              " 'is',\n",
              " 'around',\n",
              " '160',\n",
              " 'including',\n",
              " '120',\n",
              " 'fixed',\n",
              " 'undergraduate',\n",
              " 'intakes',\n",
              " '.',\n",
              " 'The',\n",
              " 'department',\n",
              " 'has',\n",
              " 'well',\n",
              " 'equipped',\n",
              " 'different',\n",
              " 'laboratories',\n",
              " 'and',\n",
              " 'a',\n",
              " 'System',\n",
              " 'Development',\n",
              " 'Centre',\n",
              " 'to',\n",
              " 'increase',\n",
              " 'the',\n",
              " 'expertise',\n",
              " 'of',\n",
              " 'students',\n",
              " 'practically',\n",
              " 'along',\n",
              " 'with',\n",
              " 'theoretical',\n",
              " 'knowledge',\n",
              " '.']"
            ]
          },
          "metadata": {},
          "execution_count": 23
        }
      ],
      "source": [
        "from nltk.tokenize import word_tokenize\n",
        "tokenized_word=word_tokenize(text)\n",
        "word_tokenize(text)"
      ]
    },
    {
      "cell_type": "markdown",
      "metadata": {
        "id": "dBukRAISqUh0"
      },
      "source": [
        "## White Spcae Tokenizer"
      ]
    },
    {
      "cell_type": "code",
      "execution_count": 24,
      "metadata": {
        "scrolled": false,
        "colab": {
          "base_uri": "https://localhost:8080/"
        },
        "id": "KfTw63MZqUh0",
        "outputId": "72a17286-25aa-4dcc-8928-565b38fe3426"
      },
      "outputs": [
        {
          "output_type": "execute_result",
          "data": {
            "text/plain": [
              "['Department',\n",
              " 'of',\n",
              " 'Computer',\n",
              " 'Science',\n",
              " 'and',\n",
              " 'Engineering',\n",
              " 'of',\n",
              " 'KUET,',\n",
              " 'started',\n",
              " 'its',\n",
              " 'academic',\n",
              " 'activities',\n",
              " 'from',\n",
              " 'September',\n",
              " '26,',\n",
              " '1999',\n",
              " 'with',\n",
              " 'the',\n",
              " 'aim',\n",
              " 'of',\n",
              " 'quality',\n",
              " 'education',\n",
              " 'as',\n",
              " 'well',\n",
              " 'as',\n",
              " 'cutting',\n",
              " 'edge',\n",
              " 'researches',\n",
              " 'in',\n",
              " 'the',\n",
              " 'branches',\n",
              " 'of',\n",
              " 'Computer',\n",
              " 'Science',\n",
              " 'and',\n",
              " 'Engineering.',\n",
              " 'The',\n",
              " 'department',\n",
              " 'regularly',\n",
              " 'offers',\n",
              " 'postgraduate',\n",
              " '(M.Sc.',\n",
              " 'and',\n",
              " 'Ph.D.)',\n",
              " 'and',\n",
              " 'undergraduate',\n",
              " '(B.Sc.)',\n",
              " 'programs.',\n",
              " 'Only',\n",
              " 'top',\n",
              " 'ranked',\n",
              " 'brilliant',\n",
              " 'students',\n",
              " 'are',\n",
              " 'enrolled',\n",
              " 'in',\n",
              " 'this',\n",
              " 'department',\n",
              " 'through',\n",
              " 'a',\n",
              " 'competitive',\n",
              " 'admission',\n",
              " 'test.',\n",
              " 'At',\n",
              " 'present,',\n",
              " 'yearly',\n",
              " 'intake',\n",
              " 'of',\n",
              " 'this',\n",
              " 'department',\n",
              " 'is',\n",
              " 'around',\n",
              " '160',\n",
              " 'including',\n",
              " '120',\n",
              " 'fixed',\n",
              " 'undergraduate',\n",
              " 'intakes.',\n",
              " 'The',\n",
              " 'department',\n",
              " 'has',\n",
              " 'well',\n",
              " 'equipped',\n",
              " 'different',\n",
              " 'laboratories',\n",
              " 'and',\n",
              " 'a',\n",
              " 'System',\n",
              " 'Development',\n",
              " 'Centre',\n",
              " 'to',\n",
              " 'increase',\n",
              " 'the',\n",
              " 'expertise',\n",
              " 'of',\n",
              " 'students',\n",
              " 'practically',\n",
              " 'along',\n",
              " 'with',\n",
              " 'theoretical',\n",
              " 'knowledge.']"
            ]
          },
          "metadata": {},
          "execution_count": 24
        }
      ],
      "source": [
        "from nltk.tokenize import WhitespaceTokenizer\n",
        "WhitespaceTokenizer().tokenize(text)"
      ]
    },
    {
      "cell_type": "markdown",
      "metadata": {
        "id": "4oCLbTIoqUh1"
      },
      "source": [
        "## Word Punct Tokenize"
      ]
    },
    {
      "cell_type": "code",
      "execution_count": 25,
      "metadata": {
        "scrolled": true,
        "colab": {
          "base_uri": "https://localhost:8080/"
        },
        "id": "zRL0caFHqUh2",
        "outputId": "9aa5933d-acdc-447e-a628-6c748098903b"
      },
      "outputs": [
        {
          "output_type": "execute_result",
          "data": {
            "text/plain": [
              "['Department',\n",
              " 'of',\n",
              " 'Computer',\n",
              " 'Science',\n",
              " 'and',\n",
              " 'Engineering',\n",
              " 'of',\n",
              " 'KUET',\n",
              " ',',\n",
              " 'started',\n",
              " 'its',\n",
              " 'academic',\n",
              " 'activities',\n",
              " 'from',\n",
              " 'September',\n",
              " '26',\n",
              " ',',\n",
              " '1999',\n",
              " 'with',\n",
              " 'the',\n",
              " 'aim',\n",
              " 'of',\n",
              " 'quality',\n",
              " 'education',\n",
              " 'as',\n",
              " 'well',\n",
              " 'as',\n",
              " 'cutting',\n",
              " 'edge',\n",
              " 'researches',\n",
              " 'in',\n",
              " 'the',\n",
              " 'branches',\n",
              " 'of',\n",
              " 'Computer',\n",
              " 'Science',\n",
              " 'and',\n",
              " 'Engineering',\n",
              " '.',\n",
              " 'The',\n",
              " 'department',\n",
              " 'regularly',\n",
              " 'offers',\n",
              " 'postgraduate',\n",
              " '(',\n",
              " 'M',\n",
              " '.',\n",
              " 'Sc',\n",
              " '.',\n",
              " 'and',\n",
              " 'Ph',\n",
              " '.',\n",
              " 'D',\n",
              " '.)',\n",
              " 'and',\n",
              " 'undergraduate',\n",
              " '(',\n",
              " 'B',\n",
              " '.',\n",
              " 'Sc',\n",
              " '.)',\n",
              " 'programs',\n",
              " '.',\n",
              " 'Only',\n",
              " 'top',\n",
              " 'ranked',\n",
              " 'brilliant',\n",
              " 'students',\n",
              " 'are',\n",
              " 'enrolled',\n",
              " 'in',\n",
              " 'this',\n",
              " 'department',\n",
              " 'through',\n",
              " 'a',\n",
              " 'competitive',\n",
              " 'admission',\n",
              " 'test',\n",
              " '.',\n",
              " 'At',\n",
              " 'present',\n",
              " ',',\n",
              " 'yearly',\n",
              " 'intake',\n",
              " 'of',\n",
              " 'this',\n",
              " 'department',\n",
              " 'is',\n",
              " 'around',\n",
              " '160',\n",
              " 'including',\n",
              " '120',\n",
              " 'fixed',\n",
              " 'undergraduate',\n",
              " 'intakes',\n",
              " '.',\n",
              " 'The',\n",
              " 'department',\n",
              " 'has',\n",
              " 'well',\n",
              " 'equipped',\n",
              " 'different',\n",
              " 'laboratories',\n",
              " 'and',\n",
              " 'a',\n",
              " 'System',\n",
              " 'Development',\n",
              " 'Centre',\n",
              " 'to',\n",
              " 'increase',\n",
              " 'the',\n",
              " 'expertise',\n",
              " 'of',\n",
              " 'students',\n",
              " 'practically',\n",
              " 'along',\n",
              " 'with',\n",
              " 'theoretical',\n",
              " 'knowledge',\n",
              " '.']"
            ]
          },
          "metadata": {},
          "execution_count": 25
        }
      ],
      "source": [
        "from nltk.tokenize import wordpunct_tokenize\n",
        "wordpunct_tokenize(text)"
      ]
    },
    {
      "cell_type": "code",
      "execution_count": 25,
      "metadata": {
        "scrolled": true,
        "id": "yud9QeQnqUh2"
      },
      "outputs": [],
      "source": []
    },
    {
      "cell_type": "code",
      "execution_count": 25,
      "metadata": {
        "id": "PjFqSFnxqUh3"
      },
      "outputs": [],
      "source": []
    },
    {
      "cell_type": "markdown",
      "metadata": {
        "id": "dPQZyNeyqUh3"
      },
      "source": [
        "## Frequency Distribution"
      ]
    },
    {
      "cell_type": "code",
      "execution_count": 26,
      "metadata": {
        "colab": {
          "base_uri": "https://localhost:8080/"
        },
        "id": "XLXoLDCGqUh3",
        "outputId": "14dcca24-3d92-4bdf-a33e-a6ef9ecfc690"
      },
      "outputs": [
        {
          "output_type": "stream",
          "name": "stdout",
          "text": [
            "<FreqDist with 79 samples and 115 outcomes>\n"
          ]
        }
      ],
      "source": [
        "from nltk.probability import FreqDist\n",
        "fdist=FreqDist(tokenized_word)\n",
        "print(fdist)"
      ]
    },
    {
      "cell_type": "code",
      "execution_count": 27,
      "metadata": {
        "colab": {
          "base_uri": "https://localhost:8080/"
        },
        "id": "P2uE4q9VqUh4",
        "outputId": "60ee509a-eb38-4bd8-9f4d-287aa961ec7b"
      },
      "outputs": [
        {
          "output_type": "execute_result",
          "data": {
            "text/plain": [
              "[('.', 7),\n",
              " ('of', 6),\n",
              " ('and', 5),\n",
              " ('department', 4),\n",
              " (',', 3),\n",
              " ('the', 3),\n",
              " ('Computer', 2),\n",
              " ('Science', 2),\n",
              " ('Engineering', 2),\n",
              " ('with', 2),\n",
              " ('as', 2),\n",
              " ('well', 2),\n",
              " ('in', 2),\n",
              " ('The', 2),\n",
              " ('(', 2),\n",
              " (')', 2),\n",
              " ('undergraduate', 2),\n",
              " ('students', 2),\n",
              " ('this', 2),\n",
              " ('a', 2),\n",
              " ('Department', 1),\n",
              " ('KUET', 1),\n",
              " ('started', 1),\n",
              " ('its', 1),\n",
              " ('academic', 1),\n",
              " ('activities', 1),\n",
              " ('from', 1),\n",
              " ('September', 1),\n",
              " ('26', 1),\n",
              " ('1999', 1),\n",
              " ('aim', 1),\n",
              " ('quality', 1),\n",
              " ('education', 1),\n",
              " ('cutting', 1),\n",
              " ('edge', 1),\n",
              " ('researches', 1),\n",
              " ('branches', 1),\n",
              " ('regularly', 1),\n",
              " ('offers', 1),\n",
              " ('postgraduate', 1),\n",
              " ('M.Sc', 1),\n",
              " ('Ph.D.', 1),\n",
              " ('B.Sc', 1),\n",
              " ('programs', 1),\n",
              " ('Only', 1),\n",
              " ('top', 1),\n",
              " ('ranked', 1),\n",
              " ('brilliant', 1),\n",
              " ('are', 1),\n",
              " ('enrolled', 1),\n",
              " ('through', 1),\n",
              " ('competitive', 1),\n",
              " ('admission', 1),\n",
              " ('test', 1),\n",
              " ('At', 1),\n",
              " ('present', 1),\n",
              " ('yearly', 1),\n",
              " ('intake', 1),\n",
              " ('is', 1),\n",
              " ('around', 1),\n",
              " ('160', 1),\n",
              " ('including', 1),\n",
              " ('120', 1),\n",
              " ('fixed', 1),\n",
              " ('intakes', 1),\n",
              " ('has', 1),\n",
              " ('equipped', 1),\n",
              " ('different', 1),\n",
              " ('laboratories', 1),\n",
              " ('System', 1),\n",
              " ('Development', 1),\n",
              " ('Centre', 1),\n",
              " ('to', 1),\n",
              " ('increase', 1),\n",
              " ('expertise', 1),\n",
              " ('practically', 1),\n",
              " ('along', 1),\n",
              " ('theoretical', 1),\n",
              " ('knowledge', 1)]"
            ]
          },
          "metadata": {},
          "execution_count": 27
        }
      ],
      "source": [
        "fdist.most_common()"
      ]
    },
    {
      "cell_type": "code",
      "execution_count": 28,
      "metadata": {
        "scrolled": true,
        "colab": {
          "base_uri": "https://localhost:8080/"
        },
        "id": "s918ooDSqUh5",
        "outputId": "03f9f347-de44-43a2-9941-54abc132cb7a"
      },
      "outputs": [
        {
          "output_type": "execute_result",
          "data": {
            "text/plain": [
              "[('.', 7), ('of', 6)]"
            ]
          },
          "metadata": {},
          "execution_count": 28
        }
      ],
      "source": [
        "fdist.most_common(2)"
      ]
    },
    {
      "cell_type": "code",
      "execution_count": 29,
      "metadata": {
        "colab": {
          "base_uri": "https://localhost:8080/"
        },
        "id": "iP8d7NeNqUh6",
        "outputId": "409f3908-e6bf-4f96-aca6-ebba5e1e21a9"
      },
      "outputs": [
        {
          "output_type": "execute_result",
          "data": {
            "text/plain": [
              "[('.', 7),\n",
              " ('of', 6),\n",
              " ('and', 5),\n",
              " ('department', 4),\n",
              " (',', 3),\n",
              " ('the', 3),\n",
              " ('Computer', 2),\n",
              " ('Science', 2),\n",
              " ('Engineering', 2),\n",
              " ('with', 2)]"
            ]
          },
          "metadata": {},
          "execution_count": 29
        }
      ],
      "source": [
        "fdist.most_common(10)"
      ]
    },
    {
      "cell_type": "markdown",
      "metadata": {
        "id": "sOGBwYFuqUh6"
      },
      "source": [
        "### Plot Frequency Distribution"
      ]
    },
    {
      "cell_type": "code",
      "execution_count": 30,
      "metadata": {
        "id": "nnIzwnZsqUh6"
      },
      "outputs": [],
      "source": [
        "import matplotlib.pyplot as plt"
      ]
    },
    {
      "cell_type": "code",
      "execution_count": 31,
      "metadata": {
        "scrolled": false,
        "colab": {
          "base_uri": "https://localhost:8080/",
          "height": 539
        },
        "id": "TkRyVheuqUh6",
        "outputId": "873f6e3a-4466-4b48-9bef-b9df06e73acb"
      },
      "outputs": [
        {
          "output_type": "display_data",
          "data": {
            "text/plain": [
              "<Figure size 640x480 with 1 Axes>"
            ],
            "image/png": "[encoded data removed]"
          },
          "metadata": {}
        }
      ],
      "source": [
        "fdist.plot(30,cumulative=False)\n",
        "plt.show()"
      ]
    },
    {
      "cell_type": "code",
      "execution_count": 32,
      "metadata": {
        "colab": {
          "base_uri": "https://localhost:8080/",
          "height": 519
        },
        "id": "Sn6Eh7pnqUh7",
        "outputId": "7438cc4b-d1f4-4c21-9e17-a06a42db386e"
      },
      "outputs": [
        {
          "output_type": "display_data",
          "data": {
            "text/plain": [
              "<Figure size 640x480 with 1 Axes>"
            ],
            "image/png": "[encoded data removed]"
          },
          "metadata": {}
        }
      ],
      "source": [
        "fdist.plot(10,cumulative=False)\n",
        "plt.show()"
      ]
    },
    {
      "cell_type": "markdown",
      "metadata": {
        "id": "VGE33DbmqUh7"
      },
      "source": []
    },
    {
      "cell_type": "code",
      "execution_count": 33,
      "metadata": {
        "scrolled": true,
        "colab": {
          "base_uri": "https://localhost:8080/",
          "height": 539
        },
        "id": "z5j0cnoSqUh7",
        "outputId": "1a00cfc5-ccb1-4f72-ae9d-a12bdd5400f1"
      },
      "outputs": [
        {
          "output_type": "display_data",
          "data": {
            "text/plain": [
              "<Figure size 640x480 with 1 Axes>"
            ],
            "image/png": "[encoded data removed]"
          },
          "metadata": {}
        }
      ],
      "source": [
        "fdist.plot(30,cumulative=True)\n",
        "plt.show()"
      ]
    },
    {
      "cell_type": "code",
      "execution_count": 34,
      "metadata": {
        "colab": {
          "base_uri": "https://localhost:8080/",
          "height": 519
        },
        "id": "otyy-5DHqUh_",
        "outputId": "98bb7592-20a4-41a1-883d-d997a1e7b9b6"
      },
      "outputs": [
        {
          "output_type": "display_data",
          "data": {
            "text/plain": [
              "<Figure size 640x480 with 1 Axes>"
            ],
            "image/png": "[encoded data removed]"
          },
          "metadata": {}
        }
      ],
      "source": [
        "fdist.plot(10,cumulative=True)\n",
        "plt.show()"
      ]
    },
    {
      "cell_type": "code",
      "metadata": {
        "colab": {
          "base_uri": "https://localhost:8080/"
        },
        "id": "3fa14d50",
        "outputId": "cfefb71a-9dca-49e6-b360-aafaa9240e61"
      },
      "source": [
        "import nltk\n",
        "nltk.download('punkt_tab')"
      ],
      "execution_count": 35,
      "outputs": [
        {
          "output_type": "stream",
          "name": "stderr",
          "text": [
            "[nltk_data] Downloading package punkt_tab to /root/nltk_data...\n",
            "[nltk_data]   Package punkt_tab is already up-to-date!\n"
          ]
        },
        {
          "output_type": "execute_result",
          "data": {
            "text/plain": [
              "True"
            ]
          },
          "metadata": {},
          "execution_count": 35
        }
      ]
    }
  ],
  "metadata": {
    "kernelspec": {
      "display_name": "Python 3",
      "language": "python",
      "name": "python3"
    },
    "language_info": {
      "codemirror_mode": {
        "name": "ipython",
        "version": 3
      },
      "file_extension": ".py",
      "mimetype": "text/x-python",
      "name": "python",
      "nbconvert_exporter": "python",
      "pygments_lexer": "ipython3",
      "version": "3.8.5"
    },
    "colab": {
      "provenance": [],
      "include_colab_link": true
    }
  },
  "nbformat": 4,
  "nbformat_minor": 0
}