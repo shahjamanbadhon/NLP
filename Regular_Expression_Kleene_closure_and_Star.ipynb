{
  "cells": [
    {
      "cell_type": "markdown",
      "metadata": {
        "id": "view-in-github",
        "colab_type": "text"
      },
      "source": [
        "<a href=\"https://colab.research.google.com/github/shahjamanbadhon/NLP/blob/main/Regular_Expression_Kleene_closure_and_Star.ipynb\" target=\"_parent\"><img src=\"https://colab.research.google.com/assets/colab-badge.svg\" alt=\"Open In Colab\"/></a>"
      ]
    },
    {
      "cell_type": "markdown",
      "metadata": {
        "id": "TDgORz7aqa12"
      },
      "source": [
        "## Kleenee closure and star\n",
        "\n",
        "\n",
        "- \"*\" : 0 or more\n",
        "- \"+\" : 1 or more\n",
        "- New (s)* : New, News, Newss, Newssss, Newssssss\n",
        "- New (s)+ : News, Newss, Newssss, Newssssss\n"
      ]
    },
    {
      "cell_type": "code",
      "execution_count": 1,
      "metadata": {
        "id": "VxoboIPUqa14"
      },
      "outputs": [],
      "source": [
        "import re"
      ]
    },
    {
      "cell_type": "markdown",
      "metadata": {
        "id": "cSzhJkTqqa15"
      },
      "source": [
        "### Example: Star\n"
      ]
    },
    {
      "cell_type": "code",
      "execution_count": 2,
      "metadata": {
        "colab": {
          "base_uri": "https://localhost:8080/"
        },
        "id": "5Rl3H7RMqa15",
        "outputId": "322a0d38-5184-45a3-814d-02dddd39f052"
      },
      "outputs": [
        {
          "output_type": "stream",
          "name": "stdout",
          "text": [
            "Match \n"
          ]
        }
      ],
      "source": [
        "pattern=\"New(s)*\"\n",
        "if re.match(pattern, \"New\"):\n",
        "    print(\"Match \")\n",
        "else:\n",
        "    print(\"Not Match\")\n"
      ]
    },
    {
      "cell_type": "code",
      "execution_count": 3,
      "metadata": {
        "colab": {
          "base_uri": "https://localhost:8080/"
        },
        "id": "_927f7iOqa16",
        "outputId": "622bcc1b-e197-4f07-b962-2b484d5f0891"
      },
      "outputs": [
        {
          "output_type": "stream",
          "name": "stdout",
          "text": [
            "Match \n"
          ]
        }
      ],
      "source": [
        "pattern=\"New(s)*\"\n",
        "if re.match(pattern, \"Newssssssss\"):\n",
        "    print(\"Match \")\n",
        "else:\n",
        "    print(\"Not Match\")\n"
      ]
    },
    {
      "cell_type": "code",
      "execution_count": 4,
      "metadata": {
        "colab": {
          "base_uri": "https://localhost:8080/"
        },
        "id": "tH6uFHDnqa16",
        "outputId": "fffa4bf8-6758-444f-9a1b-69295df3807b"
      },
      "outputs": [
        {
          "output_type": "stream",
          "name": "stdout",
          "text": [
            "Match \n"
          ]
        }
      ],
      "source": [
        "pattern=\"New(s)*\"\n",
        "if re.match(pattern, \"News\"):\n",
        "    print(\"Match \")\n",
        "else:\n",
        "    print(\"Not Match\")\n"
      ]
    },
    {
      "cell_type": "code",
      "execution_count": 11,
      "metadata": {
        "colab": {
          "base_uri": "https://localhost:8080/"
        },
        "id": "enIi4Oqnqa17",
        "outputId": "31a07bd4-3c19-400d-fcf9-be3f65c3e655"
      },
      "outputs": [
        {
          "output_type": "stream",
          "name": "stdout",
          "text": [
            "Not Match\n"
          ]
        }
      ],
      "source": [
        "pattern=\"New(s)*\"\n",
        "if re.match(pattern, \"N\"):\n",
        "    print(\"Match \")\n",
        "else:\n",
        "    print(\"Not Match\")\n"
      ]
    },
    {
      "cell_type": "markdown",
      "metadata": {
        "id": "8jcinCr3qa17"
      },
      "source": [
        "### Example: Plus\n"
      ]
    },
    {
      "cell_type": "code",
      "execution_count": 12,
      "metadata": {
        "colab": {
          "base_uri": "https://localhost:8080/"
        },
        "id": "839uuaDyqa17",
        "outputId": "8eb5c47b-4255-4ef0-e8cd-485bc5f745f6"
      },
      "outputs": [
        {
          "output_type": "stream",
          "name": "stdout",
          "text": [
            "Not Match\n"
          ]
        }
      ],
      "source": [
        "pattern=\"New(s)+\"\n",
        "if re.match(pattern, \"New\"):\n",
        "    print(\"Match \")\n",
        "else:\n",
        "    print(\"Not Match\")\n"
      ]
    },
    {
      "cell_type": "code",
      "execution_count": 13,
      "metadata": {
        "colab": {
          "base_uri": "https://localhost:8080/"
        },
        "id": "eymQdjgaqa18",
        "outputId": "298c84dd-b691-41e7-8bc1-839d2970ddb4"
      },
      "outputs": [
        {
          "output_type": "stream",
          "name": "stdout",
          "text": [
            "Match \n"
          ]
        }
      ],
      "source": [
        "pattern=\"New(s)+\"\n",
        "if re.match(pattern, \"News\"):\n",
        "    print(\"Match \")\n",
        "else:\n",
        "    print(\"Not Match\")\n"
      ]
    },
    {
      "cell_type": "markdown",
      "metadata": {
        "id": "RYhpEEffqa18"
      },
      "source": [
        "## Examples: Star or plus in middle\n",
        "- love\n",
        "- lovvvvvvvvvvvvvvvvvvvvvvvvvveeee\n",
        "- loveeeee"
      ]
    },
    {
      "cell_type": "code",
      "execution_count": 14,
      "metadata": {
        "colab": {
          "base_uri": "https://localhost:8080/"
        },
        "id": "4O-5pNUXqa18",
        "outputId": "4ea29521-42ae-4ec5-8774-fc67416ca831"
      },
      "outputs": [
        {
          "output_type": "stream",
          "name": "stdout",
          "text": [
            "Match\n"
          ]
        }
      ],
      "source": [
        "pattern=\"lo(v)*e\"\n",
        "if re.match(pattern,'love'):\n",
        "    print(\"Match\")\n",
        "else:\n",
        "    print(\"Not Match\")"
      ]
    },
    {
      "cell_type": "code",
      "execution_count": 15,
      "metadata": {
        "colab": {
          "base_uri": "https://localhost:8080/"
        },
        "id": "gKrmODAMqa18",
        "outputId": "d332cf11-5d8b-4f2e-a4ab-5161c694fc9d"
      },
      "outputs": [
        {
          "output_type": "stream",
          "name": "stdout",
          "text": [
            "Match\n"
          ]
        }
      ],
      "source": [
        "pattern=\"lo(v)*e\"\n",
        "if re.match(pattern,'lovvvvvvvvvvvve'):\n",
        "    print(\"Match\")\n",
        "else:\n",
        "    print(\"Not Match\")"
      ]
    },
    {
      "cell_type": "code",
      "execution_count": 16,
      "metadata": {
        "colab": {
          "base_uri": "https://localhost:8080/"
        },
        "id": "XIt1vvY2qa19",
        "outputId": "1ddff2cf-c4d8-4d32-d6ff-d640c9a25e63"
      },
      "outputs": [
        {
          "output_type": "stream",
          "name": "stdout",
          "text": [
            "Match\n"
          ]
        }
      ],
      "source": [
        "pattern=\"lo(v)*e\"\n",
        "if re.match(pattern,'loe'):\n",
        "    print(\"Match\")\n",
        "else:\n",
        "    print(\"Not Match\")"
      ]
    },
    {
      "cell_type": "code",
      "execution_count": 17,
      "metadata": {
        "colab": {
          "base_uri": "https://localhost:8080/"
        },
        "id": "vPntMDEbqa19",
        "outputId": "20534e84-1e76-45f6-fb2a-decf6916934d"
      },
      "outputs": [
        {
          "output_type": "stream",
          "name": "stdout",
          "text": [
            "Not Match\n"
          ]
        }
      ],
      "source": [
        "pattern=\"lo(v)*e\"\n",
        "if re.match(pattern,'lov'):\n",
        "    print(\"Match\")\n",
        "else:\n",
        "    print(\"Not Match\")"
      ]
    }
  ],
  "metadata": {
    "kernelspec": {
      "display_name": "Python 3",
      "language": "python",
      "name": "python3"
    },
    "language_info": {
      "codemirror_mode": {
        "name": "ipython",
        "version": 3
      },
      "file_extension": ".py",
      "mimetype": "text/x-python",
      "name": "python",
      "nbconvert_exporter": "python",
      "pygments_lexer": "ipython3",
      "version": "3.8.5"
    },
    "colab": {
      "provenance": [],
      "include_colab_link": true
    }
  },
  "nbformat": 4,
  "nbformat_minor": 0
}