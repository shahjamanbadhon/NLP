{
  "cells": [
    {
      "cell_type": "markdown",
      "metadata": {
        "id": "view-in-github",
        "colab_type": "text"
      },
      "source": [
        "<a href=\"https://colab.research.google.com/github/shahjamanbadhon/NLP/blob/main/Lemmatization.ipynb\" target=\"_parent\"><img src=\"https://colab.research.google.com/assets/colab-badge.svg\" alt=\"Open In Colab\"/></a>"
      ]
    },
    {
      "cell_type": "markdown",
      "metadata": {
        "id": "AhnPZJpOsQEj"
      },
      "source": [
        "## Lemmatization\n",
        "Lemmatization reduces words to their base word, which is linguistically correct lemmas. It transforms root word with the use of vocabulary and morphological analysis.\n",
        "\n",
        "Lemmatization: Finding the same root\n",
        "- Input : (Sings, Sung, Sang)\n",
        "- Output : Sing\n"
      ]
    },
    {
      "cell_type": "markdown",
      "metadata": {
        "id": "0DJPYWH0sQEm"
      },
      "source": [
        "https://wordnet.princeton.edu/"
      ]
    },
    {
      "cell_type": "code",
      "execution_count": 1,
      "metadata": {
        "scrolled": true,
        "colab": {
          "base_uri": "https://localhost:8080/"
        },
        "id": "RpH0n3ALsQEp",
        "outputId": "95e37409-f539-4750-ceea-e4276fbf0cf4"
      },
      "outputs": [
        {
          "output_type": "stream",
          "name": "stderr",
          "text": [
            "[nltk_data] Downloading package wordnet to /root/nltk_data...\n"
          ]
        },
        {
          "output_type": "execute_result",
          "data": {
            "text/plain": [
              "True"
            ]
          },
          "metadata": {},
          "execution_count": 1
        }
      ],
      "source": [
        "import nltk\n",
        "nltk.download('wordnet')"
      ]
    },
    {
      "cell_type": "code",
      "execution_count": 2,
      "metadata": {
        "id": "KgGYLSyosQEu"
      },
      "outputs": [],
      "source": [
        "from nltk.stem.wordnet import WordNetLemmatizer\n",
        "lemmatizer=WordNetLemmatizer()"
      ]
    },
    {
      "cell_type": "markdown",
      "metadata": {
        "id": "fcPxhtMVsQEv"
      },
      "source": [
        "## Remove the s or es and finding the root"
      ]
    },
    {
      "cell_type": "code",
      "execution_count": 3,
      "metadata": {
        "colab": {
          "base_uri": "https://localhost:8080/"
        },
        "id": "N_-uj2wPsQEv",
        "outputId": "fee8b1f7-30a1-4457-9c25-4df506506503"
      },
      "outputs": [
        {
          "output_type": "stream",
          "name": "stdout",
          "text": [
            "rocks : rock\n",
            "bues : bus\n",
            "students : student\n",
            "computers : computer\n",
            "goes : go\n",
            "languages : language\n"
          ]
        }
      ],
      "source": [
        "print(\"rocks :\", lemmatizer.lemmatize(\"rocks\"))\n",
        "print(\"bues :\", lemmatizer.lemmatize(\"buses\"))\n",
        "print(\"students :\", lemmatizer.lemmatize(\"students\"))\n",
        "print(\"computers :\", lemmatizer.lemmatize(\"computers\"))\n",
        "print(\"goes :\", lemmatizer.lemmatize(\"goes\"))\n",
        "print(\"languages :\", lemmatizer.lemmatize(\"languages\"))"
      ]
    },
    {
      "cell_type": "markdown",
      "metadata": {
        "id": "mHHVCCk4sQEw"
      },
      "source": [
        "## Lematize the verb with arguments"
      ]
    },
    {
      "cell_type": "code",
      "execution_count": 4,
      "metadata": {
        "colab": {
          "base_uri": "https://localhost:8080/"
        },
        "id": "1E4fsadRsQEw",
        "outputId": "c6e800d2-dc8e-44d4-8a51-a3f63db6c9c6"
      },
      "outputs": [
        {
          "output_type": "stream",
          "name": "stdout",
          "text": [
            "Lemmatization : flying ->  fly\n"
          ]
        }
      ],
      "source": [
        "word=\"flying\"\n",
        "print(\"Lemmatization : \"+word+\" -> \",lemmatizer.lemmatize(word,'v'))"
      ]
    },
    {
      "cell_type": "code",
      "execution_count": 5,
      "metadata": {
        "scrolled": false,
        "colab": {
          "base_uri": "https://localhost:8080/"
        },
        "id": "wi5r36P8sQEx",
        "outputId": "35cf7acf-801d-45c8-dba9-faa9c18ef5df"
      },
      "outputs": [
        {
          "output_type": "stream",
          "name": "stdout",
          "text": [
            "Lemmatization : swiming ->  swim\n"
          ]
        }
      ],
      "source": [
        "word=\"swiming\"\n",
        "print(\"Lemmatization : \"+word+\" -> \",lemmatizer.lemmatize(word,'v'))"
      ]
    },
    {
      "cell_type": "code",
      "execution_count": 6,
      "metadata": {
        "colab": {
          "base_uri": "https://localhost:8080/"
        },
        "id": "EcSHRJ_7sQEy",
        "outputId": "50a5f8a9-a464-4932-e0fd-714f5acda002"
      },
      "outputs": [
        {
          "output_type": "stream",
          "name": "stdout",
          "text": [
            "Lemmatization : educated ->  educate\n"
          ]
        }
      ],
      "source": [
        "word=\"educated\"\n",
        "print(\"Lemmatization : \"+word+\" -> \",lemmatizer.lemmatize(word,'v'))"
      ]
    },
    {
      "cell_type": "code",
      "execution_count": 7,
      "metadata": {
        "colab": {
          "base_uri": "https://localhost:8080/"
        },
        "id": "UfBOSRUQsQEz",
        "outputId": "f5a80ded-5e6e-41ac-9a8b-185c8906f25e"
      },
      "outputs": [
        {
          "output_type": "stream",
          "name": "stdout",
          "text": [
            "Lemmatization : had ->  have\n"
          ]
        }
      ],
      "source": [
        "word=\"had\"\n",
        "print(\"Lemmatization : \"+word+\" -> \",lemmatizer.lemmatize(word,'v'))"
      ]
    },
    {
      "cell_type": "markdown",
      "metadata": {
        "id": "7D-4sA-fsQE1"
      },
      "source": [
        "## Lematize the adjective with arguments"
      ]
    },
    {
      "cell_type": "code",
      "execution_count": 8,
      "metadata": {
        "colab": {
          "base_uri": "https://localhost:8080/"
        },
        "id": "tWLqoMC_sQE3",
        "outputId": "f9b75863-c9ba-4b27-ae8b-5023340e1399"
      },
      "outputs": [
        {
          "output_type": "stream",
          "name": "stdout",
          "text": [
            "Lemmatization : better ->  good\n"
          ]
        }
      ],
      "source": [
        "# good -> better -> best\n",
        "word=\"better\"\n",
        "print(\"Lemmatization : \"+word+\" -> \",lemmatizer.lemmatize(word,'a'))"
      ]
    },
    {
      "cell_type": "code",
      "execution_count": 8,
      "metadata": {
        "id": "USyKnhwCsQE7"
      },
      "outputs": [],
      "source": []
    },
    {
      "cell_type": "code",
      "execution_count": 9,
      "metadata": {
        "colab": {
          "base_uri": "https://localhost:8080/"
        },
        "id": "Vdcw2KjpsQE-",
        "outputId": "04595fad-357a-4538-b315-b5404c97a83b"
      },
      "outputs": [
        {
          "output_type": "stream",
          "name": "stdout",
          "text": [
            "Lemmatization : worst ->  bad\n"
          ]
        }
      ],
      "source": [
        "word=\"worst\"\n",
        "print(\"Lemmatization : \"+word+\" -> \",lemmatizer.lemmatize(word,'a'))"
      ]
    },
    {
      "cell_type": "code",
      "execution_count": 10,
      "metadata": {
        "scrolled": true,
        "colab": {
          "base_uri": "https://localhost:8080/"
        },
        "id": "6b08c-jisQFA",
        "outputId": "3494c456-9942-4458-eb14-15f6a08c3109"
      },
      "outputs": [
        {
          "output_type": "stream",
          "name": "stdout",
          "text": [
            "Lemmatization : taller ->  tall\n"
          ]
        }
      ],
      "source": [
        "# tall -> taller -> tallest\n",
        "word=\"taller\"\n",
        "print(\"Lemmatization : \"+word+\" -> \",lemmatizer.lemmatize(word,'a'))"
      ]
    }
  ],
  "metadata": {
    "kernelspec": {
      "display_name": "Python 3",
      "language": "python",
      "name": "python3"
    },
    "language_info": {
      "codemirror_mode": {
        "name": "ipython",
        "version": 3
      },
      "file_extension": ".py",
      "mimetype": "text/x-python",
      "name": "python",
      "nbconvert_exporter": "python",
      "pygments_lexer": "ipython3",
      "version": "3.8.5"
    },
    "colab": {
      "provenance": [],
      "include_colab_link": true
    }
  },
  "nbformat": 4,
  "nbformat_minor": 0
}