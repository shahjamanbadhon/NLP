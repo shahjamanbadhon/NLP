{
  "cells": [
    {
      "cell_type": "markdown",
      "metadata": {
        "id": "view-in-github",
        "colab_type": "text"
      },
      "source": [
        "<a href=\"https://colab.research.google.com/github/shahjamanbadhon/NLP/blob/main/Regular_Expression_Kleene_closure_and_Pipe_Symbol.ipynb\" target=\"_parent\"><img src=\"https://colab.research.google.com/assets/colab-badge.svg\" alt=\"Open In Colab\"/></a>"
      ]
    },
    {
      "cell_type": "markdown",
      "metadata": {
        "id": "EFx2YJe3sIqy"
      },
      "source": [
        "## Kleenee closer\n",
        "\n",
        "- \"*\" : 0 or more\n",
        "- \"+\" : 1 or more\n",
        "- New (s)* : New, News, Newss, Newssss, Newssssss\n",
        "- New (s)+ : News, Newss, Newssss, Newssssss\n"
      ]
    },
    {
      "cell_type": "code",
      "execution_count": 1,
      "metadata": {
        "id": "kRe2m3z3sIq1"
      },
      "outputs": [],
      "source": [
        "import re"
      ]
    },
    {
      "cell_type": "markdown",
      "metadata": {
        "id": "3SOzMelzsIq2"
      },
      "source": [
        "### Example: Star\n"
      ]
    },
    {
      "cell_type": "code",
      "execution_count": 2,
      "metadata": {
        "colab": {
          "base_uri": "https://localhost:8080/"
        },
        "id": "YC03Ijq4sIq3",
        "outputId": "e3cfae7b-d384-403b-a1f3-dee8dfc4418e"
      },
      "outputs": [
        {
          "output_type": "stream",
          "name": "stdout",
          "text": [
            "Match \n"
          ]
        }
      ],
      "source": [
        "pattern=\"New(s)*\"\n",
        "if re.match(pattern, \"New\"):\n",
        "    print(\"Match \")\n",
        "else:\n",
        "    print(\"Not Match\")\n"
      ]
    },
    {
      "cell_type": "code",
      "execution_count": 3,
      "metadata": {
        "colab": {
          "base_uri": "https://localhost:8080/"
        },
        "id": "RuQ96pC9sIq5",
        "outputId": "9dae5eb3-6a86-4d23-efda-cc95172b0265"
      },
      "outputs": [
        {
          "output_type": "stream",
          "name": "stdout",
          "text": [
            "Match \n"
          ]
        }
      ],
      "source": [
        "pattern=\"New(s)*\"\n",
        "if re.match(pattern, \"Newssssssss\"):\n",
        "    print(\"Match \")\n",
        "else:\n",
        "    print(\"Not Match\")\n"
      ]
    },
    {
      "cell_type": "code",
      "execution_count": 4,
      "metadata": {
        "colab": {
          "base_uri": "https://localhost:8080/"
        },
        "id": "bsOsWZXjsIq6",
        "outputId": "25bf57e1-2488-486d-f862-2d34f625eec2"
      },
      "outputs": [
        {
          "output_type": "stream",
          "name": "stdout",
          "text": [
            "Match \n"
          ]
        }
      ],
      "source": [
        "pattern=\"New(s)*\"\n",
        "if re.match(pattern, \"News\"):\n",
        "    print(\"Match \")\n",
        "else:\n",
        "    print(\"Not Match\")\n"
      ]
    },
    {
      "cell_type": "code",
      "execution_count": 5,
      "metadata": {
        "colab": {
          "base_uri": "https://localhost:8080/"
        },
        "id": "CRaW02uFsIq7",
        "outputId": "0a346b99-3ae8-4207-f9a0-a29356f14d38"
      },
      "outputs": [
        {
          "output_type": "stream",
          "name": "stdout",
          "text": [
            "Not Match\n"
          ]
        }
      ],
      "source": [
        "pattern=\"New(s)*\"\n",
        "if re.match(pattern, \"N\"):\n",
        "    print(\"Match \")\n",
        "else:\n",
        "    print(\"Not Match\")\n"
      ]
    },
    {
      "cell_type": "markdown",
      "metadata": {
        "id": "hZUOogMNsIq7"
      },
      "source": [
        "### Example: Plus\n"
      ]
    },
    {
      "cell_type": "code",
      "execution_count": 6,
      "metadata": {
        "colab": {
          "base_uri": "https://localhost:8080/"
        },
        "id": "m4lQTY7fsIq7",
        "outputId": "c2ddbc0e-e0ad-4da2-c8d7-9f6225dcd130"
      },
      "outputs": [
        {
          "output_type": "stream",
          "name": "stdout",
          "text": [
            "Not Match\n"
          ]
        }
      ],
      "source": [
        "pattern=\"New(s)+\"\n",
        "if re.match(pattern, \"New\"):\n",
        "    print(\"Match \")\n",
        "else:\n",
        "    print(\"Not Match\")\n"
      ]
    },
    {
      "cell_type": "code",
      "execution_count": 7,
      "metadata": {
        "colab": {
          "base_uri": "https://localhost:8080/"
        },
        "id": "QaSu6qMlsIq8",
        "outputId": "7b83ca13-2e0a-4010-8ae6-4def390bd847"
      },
      "outputs": [
        {
          "output_type": "stream",
          "name": "stdout",
          "text": [
            "Match \n"
          ]
        }
      ],
      "source": [
        "pattern=\"New(s)+\"\n",
        "if re.match(pattern, \"News\"):\n",
        "    print(\"Match \")\n",
        "else:\n",
        "    print(\"Not Match\")\n"
      ]
    },
    {
      "cell_type": "markdown",
      "metadata": {
        "id": "o6xqH6-dsIq8"
      },
      "source": [
        "## Meta Character: | (Pipe Symbol)\n",
        "- | : works similiar like logical OR\n",
        "- Go (es|ing): Goes, Going\n",
        "- S (a|u|i) ng: Sing, Sung, Sang\n"
      ]
    },
    {
      "cell_type": "markdown",
      "metadata": {
        "id": "TON5J-lvsIq9"
      },
      "source": [
        "### Example: Two string\n"
      ]
    },
    {
      "cell_type": "code",
      "execution_count": 8,
      "metadata": {
        "colab": {
          "base_uri": "https://localhost:8080/"
        },
        "id": "aO6dhrOgsIq9",
        "outputId": "f6720876-0e11-4a84-a8c4-1ffb7836847b"
      },
      "outputs": [
        {
          "output_type": "stream",
          "name": "stdout",
          "text": [
            "Match \n"
          ]
        }
      ],
      "source": [
        "pattern=\"Go(es|ing)\"\n",
        "if re.match(pattern, \"Goes\"):\n",
        "    print(\"Match \")\n",
        "else:\n",
        "    print(\"Not Match\")\n"
      ]
    },
    {
      "cell_type": "code",
      "execution_count": 9,
      "metadata": {
        "colab": {
          "base_uri": "https://localhost:8080/"
        },
        "id": "owauA8gusIq9",
        "outputId": "f2c601e1-37e2-4d37-aa28-2649fd62c28a"
      },
      "outputs": [
        {
          "output_type": "stream",
          "name": "stdout",
          "text": [
            "Match \n"
          ]
        }
      ],
      "source": [
        "pattern=\"Go(es|ing)\"\n",
        "if re.match(pattern, \"Going\"):\n",
        "    print(\"Match \")\n",
        "else:\n",
        "    print(\"Not Match\")\n"
      ]
    },
    {
      "cell_type": "code",
      "execution_count": 10,
      "metadata": {
        "colab": {
          "base_uri": "https://localhost:8080/"
        },
        "id": "Yvvvrhy0sIq-",
        "outputId": "01e11e33-0ba7-4267-859d-6afc12d35503"
      },
      "outputs": [
        {
          "output_type": "stream",
          "name": "stdout",
          "text": [
            "Not Match\n"
          ]
        }
      ],
      "source": [
        "pattern=\"Go(es|ing)\"\n",
        "if re.match(pattern, \"Go\"):\n",
        "    print(\"Match \")\n",
        "else:\n",
        "    print(\"Not Match\")\n"
      ]
    },
    {
      "cell_type": "markdown",
      "metadata": {
        "id": "KDk7fAwQsIq-"
      },
      "source": [
        "### Example: Multiple String\n"
      ]
    },
    {
      "cell_type": "code",
      "execution_count": 11,
      "metadata": {
        "colab": {
          "base_uri": "https://localhost:8080/"
        },
        "id": "3-JG3sqssIq-",
        "outputId": "9654fa85-fdeb-4ecf-f617-a002d6b8fe4e"
      },
      "outputs": [
        {
          "output_type": "stream",
          "name": "stdout",
          "text": [
            "Match \n"
          ]
        }
      ],
      "source": [
        "pattern=\"S(a|u|i)ng\"\n",
        "if re.match(pattern, \"Sing\"):\n",
        "    print(\"Match \")\n",
        "else:\n",
        "    print(\"Not Match\")\n"
      ]
    },
    {
      "cell_type": "code",
      "execution_count": 12,
      "metadata": {
        "colab": {
          "base_uri": "https://localhost:8080/"
        },
        "id": "VTHwruQPsIq_",
        "outputId": "4cedb85f-a6c3-41a6-e3d1-f08a17be7af4"
      },
      "outputs": [
        {
          "output_type": "stream",
          "name": "stdout",
          "text": [
            "Match \n"
          ]
        }
      ],
      "source": [
        "pattern=\"S(a|u|i)ng\"\n",
        "if re.match(pattern, \"Sung\"):\n",
        "    print(\"Match \")\n",
        "else:\n",
        "    print(\"Not Match\")\n"
      ]
    },
    {
      "cell_type": "code",
      "execution_count": 13,
      "metadata": {
        "colab": {
          "base_uri": "https://localhost:8080/"
        },
        "id": "xpKsCKRNsIq_",
        "outputId": "3f3ac086-02b3-43e7-c610-1bb08c888f6d"
      },
      "outputs": [
        {
          "output_type": "stream",
          "name": "stdout",
          "text": [
            "Match \n"
          ]
        }
      ],
      "source": [
        "pattern=\"S(a|u|i)ng\"\n",
        "if re.match(pattern, \"Sang\"):\n",
        "    print(\"Match \")\n",
        "else:\n",
        "    print(\"Not Match\")\n"
      ]
    },
    {
      "cell_type": "code",
      "execution_count": 14,
      "metadata": {
        "colab": {
          "base_uri": "https://localhost:8080/"
        },
        "id": "M4LoxBpssIq_",
        "outputId": "1f70c181-1e1c-4749-8536-9779a61149b8"
      },
      "outputs": [
        {
          "output_type": "stream",
          "name": "stdout",
          "text": [
            "Not Match\n"
          ]
        }
      ],
      "source": [
        "pattern=\"S(a|u|i)ng\"\n",
        "if re.match(pattern, \"Sng\"):\n",
        "    print(\"Match \")\n",
        "else:\n",
        "    print(\"Not Match\")\n"
      ]
    },
    {
      "cell_type": "markdown",
      "metadata": {
        "id": "dbFNnlgPsIq_"
      },
      "source": [
        "### Example: Multiple String with star\n"
      ]
    },
    {
      "cell_type": "code",
      "execution_count": 15,
      "metadata": {
        "colab": {
          "base_uri": "https://localhost:8080/"
        },
        "id": "VpbiaCpssIrA",
        "outputId": "bcf2a9d1-ef39-4908-e0b1-5903a9fabbad"
      },
      "outputs": [
        {
          "output_type": "stream",
          "name": "stdout",
          "text": [
            "Match \n"
          ]
        }
      ],
      "source": [
        "pattern=\"S(a|u|i)*ng\"\n",
        "if re.match(pattern, \"Sng\"):\n",
        "    print(\"Match \")\n",
        "else:\n",
        "    print(\"Not Match\")\n"
      ]
    }
  ],
  "metadata": {
    "kernelspec": {
      "display_name": "Python 3",
      "language": "python",
      "name": "python3"
    },
    "language_info": {
      "codemirror_mode": {
        "name": "ipython",
        "version": 3
      },
      "file_extension": ".py",
      "mimetype": "text/x-python",
      "name": "python",
      "nbconvert_exporter": "python",
      "pygments_lexer": "ipython3",
      "version": "3.8.5"
    },
    "colab": {
      "provenance": [],
      "include_colab_link": true
    }
  },
  "nbformat": 4,
  "nbformat_minor": 0
}